{
 "cells": [
  {
   "cell_type": "code",
   "execution_count": 1,
   "metadata": {},
   "outputs": [],
   "source": [
    "from google.cloud import firestore\n",
    "import firebase_admin\n",
    "from firebase_admin import credentials, firestore\n",
    "import pandas as pd\n",
    "\n",
    "cred = credentials.Certificate(\"vinomate-9ddd21ae1bb3.json\")\n",
    "firebase_admin.initialize_app(cred)\n",
    "db = firestore.client()"
   ]
  },
  {
   "cell_type": "code",
   "execution_count": 2,
   "metadata": {},
   "outputs": [],
   "source": [
    "docs = db.collection('wines').stream()"
   ]
  },
  {
   "cell_type": "code",
   "execution_count": 3,
   "metadata": {},
   "outputs": [],
   "source": [
    "data = []\n",
    "\n",
    "for doc in docs:\n",
    "    doc_data = doc.to_dict()\n",
    "    data.append(doc_data)"
   ]
  },
  {
   "cell_type": "code",
   "execution_count": 7,
   "metadata": {},
   "outputs": [
    {
     "data": {
      "text/plain": [
       "[]"
      ]
     },
     "execution_count": 7,
     "metadata": {},
     "output_type": "execute_result"
    }
   ],
   "source": [
    "data"
   ]
  },
  {
   "cell_type": "code",
   "execution_count": 4,
   "metadata": {},
   "outputs": [],
   "source": [
    "df = pd.DataFrame(data)\n",
    "\n",
    "df.to_csv('first_extract.csv')"
   ]
  },
  {
   "cell_type": "code",
   "execution_count": 13,
   "metadata": {},
   "outputs": [
    {
     "data": {
      "text/html": [
       "<div>\n",
       "<style scoped>\n",
       "    .dataframe tbody tr th:only-of-type {\n",
       "        vertical-align: middle;\n",
       "    }\n",
       "\n",
       "    .dataframe tbody tr th {\n",
       "        vertical-align: top;\n",
       "    }\n",
       "\n",
       "    .dataframe thead th {\n",
       "        text-align: right;\n",
       "    }\n",
       "</style>\n",
       "<table border=\"1\" class=\"dataframe\">\n",
       "  <thead>\n",
       "    <tr style=\"text-align: right;\">\n",
       "      <th></th>\n",
       "      <th>Unnamed: 0</th>\n",
       "      <th>created_at</th>\n",
       "      <th>description</th>\n",
       "      <th>is_first_wine</th>\n",
       "      <th>vintages</th>\n",
       "      <th>non_vintage</th>\n",
       "      <th>sweetness_id</th>\n",
       "      <th>is_natural</th>\n",
       "      <th>general_statistics</th>\n",
       "      <th>region_id</th>\n",
       "      <th>...</th>\n",
       "      <th>reviews</th>\n",
       "      <th>alcohol</th>\n",
       "      <th>closure</th>\n",
       "      <th>style_id</th>\n",
       "      <th>type_id</th>\n",
       "      <th>grapes</th>\n",
       "      <th>hidden</th>\n",
       "      <th>vintage_mask_raw</th>\n",
       "      <th>winery_id</th>\n",
       "      <th>price</th>\n",
       "    </tr>\n",
       "    <tr>\n",
       "      <th>wine_id</th>\n",
       "      <th></th>\n",
       "      <th></th>\n",
       "      <th></th>\n",
       "      <th></th>\n",
       "      <th></th>\n",
       "      <th></th>\n",
       "      <th></th>\n",
       "      <th></th>\n",
       "      <th></th>\n",
       "      <th></th>\n",
       "      <th></th>\n",
       "      <th></th>\n",
       "      <th></th>\n",
       "      <th></th>\n",
       "      <th></th>\n",
       "      <th></th>\n",
       "      <th></th>\n",
       "      <th></th>\n",
       "      <th></th>\n",
       "      <th></th>\n",
       "      <th></th>\n",
       "    </tr>\n",
       "  </thead>\n",
       "  <tbody>\n",
       "    <tr>\n",
       "      <th>10081851</th>\n",
       "      <td>0</td>\n",
       "      <td>2021-10-15T05:57:58Z</td>\n",
       "      <td>NaN</td>\n",
       "      <td>False</td>\n",
       "      <td>[{'certified_biodynamic': None, 'year': '2023'...</td>\n",
       "      <td>False</td>\n",
       "      <td>NaN</td>\n",
       "      <td>False</td>\n",
       "      <td>{'labels_count': 112, 'status': 'Normal', 'ave...</td>\n",
       "      <td>650</td>\n",
       "      <td>...</td>\n",
       "      <td>[{'created_at': '2023-10-13T07:25:40Z', 'vinta...</td>\n",
       "      <td>0.0</td>\n",
       "      <td>NaN</td>\n",
       "      <td>629.0</td>\n",
       "      <td>2</td>\n",
       "      <td>[5]</td>\n",
       "      <td>False</td>\n",
       "      <td>NaN</td>\n",
       "      <td>14587.0</td>\n",
       "      <td>NaN</td>\n",
       "    </tr>\n",
       "    <tr>\n",
       "      <th>10138370</th>\n",
       "      <td>1</td>\n",
       "      <td>2021-11-02T17:31:47Z</td>\n",
       "      <td>NaN</td>\n",
       "      <td>False</td>\n",
       "      <td>[{'certified_biodynamic': None, 'year': '2023'...</td>\n",
       "      <td>False</td>\n",
       "      <td>NaN</td>\n",
       "      <td>False</td>\n",
       "      <td>{'labels_count': 307, 'status': 'Normal', 'ave...</td>\n",
       "      <td>748</td>\n",
       "      <td>...</td>\n",
       "      <td>[{'created_at': '2022-04-02T22:40:34Z', 'vinta...</td>\n",
       "      <td>14.0</td>\n",
       "      <td>NaN</td>\n",
       "      <td>8.0</td>\n",
       "      <td>1</td>\n",
       "      <td>[80]</td>\n",
       "      <td>False</td>\n",
       "      <td>NaN</td>\n",
       "      <td>14587.0</td>\n",
       "      <td>NaN</td>\n",
       "    </tr>\n",
       "    <tr>\n",
       "      <th>10177184</th>\n",
       "      <td>2</td>\n",
       "      <td>2021-11-15T06:00:31Z</td>\n",
       "      <td>NaN</td>\n",
       "      <td>False</td>\n",
       "      <td>[{'certified_biodynamic': None, 'year': '2022'...</td>\n",
       "      <td>False</td>\n",
       "      <td>NaN</td>\n",
       "      <td>False</td>\n",
       "      <td>{'labels_count': 375, 'status': 'Normal', 'ave...</td>\n",
       "      <td>2277</td>\n",
       "      <td>...</td>\n",
       "      <td>[{'created_at': '2021-12-23T22:06:27Z', 'vinta...</td>\n",
       "      <td>13.5</td>\n",
       "      <td>NaN</td>\n",
       "      <td>8.0</td>\n",
       "      <td>1</td>\n",
       "      <td>[80]</td>\n",
       "      <td>False</td>\n",
       "      <td>NaN</td>\n",
       "      <td>246164.0</td>\n",
       "      <td>NaN</td>\n",
       "    </tr>\n",
       "    <tr>\n",
       "      <th>10182754</th>\n",
       "      <td>3</td>\n",
       "      <td>2021-11-17T16:14:30Z</td>\n",
       "      <td>NaN</td>\n",
       "      <td>False</td>\n",
       "      <td>[{'certified_biodynamic': None, 'year': '2022'...</td>\n",
       "      <td>False</td>\n",
       "      <td>NaN</td>\n",
       "      <td>True</td>\n",
       "      <td>{'labels_count': 250, 'status': 'Normal', 'ave...</td>\n",
       "      <td>748</td>\n",
       "      <td>...</td>\n",
       "      <td>[{'created_at': '2022-05-20T04:15:31Z', 'vinta...</td>\n",
       "      <td>13.0</td>\n",
       "      <td>NaN</td>\n",
       "      <td>629.0</td>\n",
       "      <td>2</td>\n",
       "      <td>[5]</td>\n",
       "      <td>False</td>\n",
       "      <td>NaN</td>\n",
       "      <td>73128.0</td>\n",
       "      <td>NaN</td>\n",
       "    </tr>\n",
       "    <tr>\n",
       "      <th>10190953</th>\n",
       "      <td>4</td>\n",
       "      <td>2021-11-20T12:35:36Z</td>\n",
       "      <td>NaN</td>\n",
       "      <td>False</td>\n",
       "      <td>[{'certified_biodynamic': None, 'year': '2023'...</td>\n",
       "      <td>False</td>\n",
       "      <td>NaN</td>\n",
       "      <td>False</td>\n",
       "      <td>{'labels_count': 15, 'status': 'BelowThreshold...</td>\n",
       "      <td>3133</td>\n",
       "      <td>...</td>\n",
       "      <td>[{'created_at': '2022-12-10T22:06:31Z', 'vinta...</td>\n",
       "      <td>0.0</td>\n",
       "      <td>NaN</td>\n",
       "      <td>888.0</td>\n",
       "      <td>1</td>\n",
       "      <td>[80]</td>\n",
       "      <td>False</td>\n",
       "      <td>NaN</td>\n",
       "      <td>294437.0</td>\n",
       "      <td>NaN</td>\n",
       "    </tr>\n",
       "  </tbody>\n",
       "</table>\n",
       "<p>5 rows × 27 columns</p>\n",
       "</div>"
      ],
      "text/plain": [
       "          Unnamed: 0            created_at description  is_first_wine  \\\n",
       "wine_id                                                                 \n",
       "10081851           0  2021-10-15T05:57:58Z         NaN          False   \n",
       "10138370           1  2021-11-02T17:31:47Z         NaN          False   \n",
       "10177184           2  2021-11-15T06:00:31Z         NaN          False   \n",
       "10182754           3  2021-11-17T16:14:30Z         NaN          False   \n",
       "10190953           4  2021-11-20T12:35:36Z         NaN          False   \n",
       "\n",
       "                                                   vintages  non_vintage  \\\n",
       "wine_id                                                                    \n",
       "10081851  [{'certified_biodynamic': None, 'year': '2023'...        False   \n",
       "10138370  [{'certified_biodynamic': None, 'year': '2023'...        False   \n",
       "10177184  [{'certified_biodynamic': None, 'year': '2022'...        False   \n",
       "10182754  [{'certified_biodynamic': None, 'year': '2022'...        False   \n",
       "10190953  [{'certified_biodynamic': None, 'year': '2023'...        False   \n",
       "\n",
       "          sweetness_id  is_natural  \\\n",
       "wine_id                              \n",
       "10081851           NaN       False   \n",
       "10138370           NaN       False   \n",
       "10177184           NaN       False   \n",
       "10182754           NaN        True   \n",
       "10190953           NaN       False   \n",
       "\n",
       "                                         general_statistics  region_id  ...  \\\n",
       "wine_id                                                                 ...   \n",
       "10081851  {'labels_count': 112, 'status': 'Normal', 'ave...        650  ...   \n",
       "10138370  {'labels_count': 307, 'status': 'Normal', 'ave...        748  ...   \n",
       "10177184  {'labels_count': 375, 'status': 'Normal', 'ave...       2277  ...   \n",
       "10182754  {'labels_count': 250, 'status': 'Normal', 'ave...        748  ...   \n",
       "10190953  {'labels_count': 15, 'status': 'BelowThreshold...       3133  ...   \n",
       "\n",
       "                                                    reviews alcohol  closure  \\\n",
       "wine_id                                                                        \n",
       "10081851  [{'created_at': '2023-10-13T07:25:40Z', 'vinta...     0.0      NaN   \n",
       "10138370  [{'created_at': '2022-04-02T22:40:34Z', 'vinta...    14.0      NaN   \n",
       "10177184  [{'created_at': '2021-12-23T22:06:27Z', 'vinta...    13.5      NaN   \n",
       "10182754  [{'created_at': '2022-05-20T04:15:31Z', 'vinta...    13.0      NaN   \n",
       "10190953  [{'created_at': '2022-12-10T22:06:31Z', 'vinta...     0.0      NaN   \n",
       "\n",
       "         style_id type_id  grapes hidden vintage_mask_raw  winery_id price  \n",
       "wine_id                                                                     \n",
       "10081851    629.0       2     [5]  False              NaN    14587.0   NaN  \n",
       "10138370      8.0       1    [80]  False              NaN    14587.0   NaN  \n",
       "10177184      8.0       1    [80]  False              NaN   246164.0   NaN  \n",
       "10182754    629.0       2     [5]  False              NaN    73128.0   NaN  \n",
       "10190953    888.0       1    [80]  False              NaN   294437.0   NaN  \n",
       "\n",
       "[5 rows x 27 columns]"
      ]
     },
     "execution_count": 13,
     "metadata": {},
     "output_type": "execute_result"
    }
   ],
   "source": [
    "df = pd.read_csv('first_extract.csv', index_col=\"wine_id\")\n",
    "\n",
    "df.head()"
   ]
  },
  {
   "cell_type": "code",
   "execution_count": 18,
   "metadata": {},
   "outputs": [
    {
     "data": {
      "text/plain": [
       "{'tannin': None,\n",
       " 'acidity': 3.25449,\n",
       " 'user_structure_count': 0,\n",
       " 'intensity': 3.1834693,\n",
       " 'calculated_structure_count': 3,\n",
       " 'sweetness': 1.6302042,\n",
       " 'fizziness': None}"
      ]
     },
     "execution_count": 18,
     "metadata": {},
     "output_type": "execute_result"
    }
   ],
   "source": [
    "eval(df.taste.iloc[0])['structure']"
   ]
  },
  {
   "cell_type": "code",
   "execution_count": 21,
   "metadata": {},
   "outputs": [
    {
     "data": {
      "text/plain": [
       "{'created_at': '2023-10-13T07:25:40Z',\n",
       " 'vintage': {'certified_biodynamic': None,\n",
       "  'year': '2020',\n",
       "  'image': {'variations': {'large': '//images.vivino.com/thumbs/m_HtjeecT-uN435EFsUdEA_375x500.jpg',\n",
       "    'medium': '//images.vivino.com/thumbs/m_HtjeecT-uN435EFsUdEA_150x200.jpg',\n",
       "    'medium_square': '//images.vivino.com/thumbs/m_HtjeecT-uN435EFsUdEA_150x150.jpg',\n",
       "    'small_square': '//images.vivino.com/thumbs/m_HtjeecT-uN435EFsUdEA_80x80.jpg'},\n",
       "   'location': '//images.vivino.com/labels/m_HtjeecT-uN435EFsUdEA.jpg'},\n",
       "  'name': 'Louis Claude Desvignes Beaujolais Blanc Sans Bois Ni Loi 2020',\n",
       "  'id': 169609100,\n",
       "  'organic_certification_id': None,\n",
       "  'wine': {'name': 'Beaujolais Blanc Sans Bois Ni Loi',\n",
       "   'type_id': 2,\n",
       "   'id': 10081851,\n",
       "   'vintage_type': 0,\n",
       "   'is_natural': False,\n",
       "   'statistics': {'ratings_average': 3.8,\n",
       "    'labels_count': 112,\n",
       "    'status': 'Normal',\n",
       "    'ratings_count': 26,\n",
       "    'vintages_count': 5},\n",
       "   'region': {'background_image': {'variations': {'large': '//thumbs.vivino.com/region_backgrounds/giiV2oGHS9WhGtlwE_WBbw_1280x760.jpeg',\n",
       "      'medium': '//thumbs.vivino.com/region_backgrounds/giiV2oGHS9WhGtlwE_WBbw_600x356.jpeg'},\n",
       "     'location': '//images.vivino.com/regions/backgrounds/giiV2oGHS9WhGtlwE_WBbw.jpeg'},\n",
       "    'seo_name': 'beaujolais',\n",
       "    'class': {'description': \"Appellation d'Origine Protegee (formerly AOC)\",\n",
       "     'abbreviation': 'AOP',\n",
       "     'id': 5,\n",
       "     'country_code': 'fr'},\n",
       "    'id': 650,\n",
       "    'statistics': {'parent_regions_count': 0,\n",
       "     'wineries_count': 2500,\n",
       "     'sub_regions_count': 0,\n",
       "     'wines_count': 16166},\n",
       "    'country': 'fr',\n",
       "    'parent_id': None,\n",
       "    'name_en': '',\n",
       "    'name': 'Beaujolais'},\n",
       "   'review_status': 2,\n",
       "   'winery': {'background_image': None,\n",
       "    'name': 'Louis Claude Desvignes',\n",
       "    'id': 14587,\n",
       "    'statistics': {'ratings_average': 3.8,\n",
       "     'labels_count': 32464,\n",
       "     'ratings_count': 5809,\n",
       "     'wines_count': 10},\n",
       "    'review_status': 'Completed',\n",
       "    'status': 0,\n",
       "    'seo_name': 'louis-claude-desvignes'},\n",
       "   'seo_name': 'beaujolais-blanc-sans-bois-ni-loi'},\n",
       "  'statistics': {'ratings_average': 0,\n",
       "   'labels_count': 65,\n",
       "   'status': 'BelowThreshold',\n",
       "   'ratings_count': 19,\n",
       "   'reviews_count': 13},\n",
       "  'seo_name': 'louis-claude-desvignes-beaujolais-blanc-sans-bois-ni-loi-2020'},\n",
       " 'language': 'en',\n",
       " 'id': 289765939,\n",
       " 'aggregated': True,\n",
       " 'rating': 3.8,\n",
       " 'activity': {'id': 757083272,\n",
       "  'statistics': {'comments_count': 0, 'likes_count': 15}},\n",
       " 'user': {'background_image': {'variations': {'large': '//thumbs.vivino.com/backgrounds/002dziigq65dce9e8d8076e_1200x400.jpg',\n",
       "    'medium': '//thumbs.vivino.com/backgrounds/002dziigq65dce9e8d8076e_600x200.jpg',\n",
       "    'small': '//thumbs.vivino.com/backgrounds/002dziigq65dce9e8d8076e_140x60.jpg'},\n",
       "   'location': '//images.vivino.com/users/backgrounds/002dziigq65dce9e8d8076e.jpg'},\n",
       "  'is_premium': False,\n",
       "  'image': {'variations': {'large': '//thumbs.vivino.com/avatars/QDFdMsEtTT-gKq8SR0wF2w_300x300.jpg',\n",
       "    'small_square': '//thumbs.vivino.com/avatars/QDFdMsEtTT-gKq8SR0wF2w_50x50.jpg'},\n",
       "   'location': '//images.vivino.com/avatars/QDFdMsEtTT-gKq8SR0wF2w.jpg'},\n",
       "  'language': 'en',\n",
       "  'id': 4011786,\n",
       "  'statistics': {'followers_count': 3326,\n",
       "   'ratings_sum': 9311.4,\n",
       "   'purchase_order_count': 0,\n",
       "   'ratings_count': 2688,\n",
       "   'reviews_count': 2633,\n",
       "   'followings_count': 401},\n",
       "  'alias': 'James QK',\n",
       "  'visibility': 'all',\n",
       "  'is_featured': True,\n",
       "  'seo_name': 'jamesqk'},\n",
       " 'note': 'Really interesting.\\n\\nGreen, savoury, unripe nectarine, unripe honeydew melon, grassy, weed-esque, wooded. \\n\\nTight, citrus, mandarin, lemon, flinty mineral, medium acidity, textured medium finish.'}"
      ]
     },
     "execution_count": 21,
     "metadata": {},
     "output_type": "execute_result"
    }
   ],
   "source": [
    "eval(df.reviews.iloc[0])[0]"
   ]
  },
  {
   "cell_type": "code",
   "execution_count": 3,
   "metadata": {},
   "outputs": [
    {
     "data": {
      "application/vnd.plotly.v1+json": {
       "config": {
        "plotlyServerURL": "https://plot.ly"
       },
       "data": [
        {
         "alignmentgroup": "True",
         "bingroup": "x",
         "hovertemplate": "alcohol=%{x}<br>count=%{y}<extra></extra>",
         "legendgroup": "",
         "marker": {
          "color": "#636efa",
          "pattern": {
           "shape": ""
          }
         },
         "name": "",
         "offsetgroup": "",
         "orientation": "v",
         "showlegend": false,
         "type": "histogram",
         "x": [
          0,
          14,
          13.5,
          13,
          0,
          0,
          13,
          13,
          12.5,
          12.5,
          0,
          11.5,
          12,
          13.5,
          13,
          11.5,
          14,
          12,
          12.5,
          12.5,
          13,
          13,
          13,
          13,
          0,
          13,
          13.5,
          13,
          13,
          13,
          13,
          11.5,
          13.5,
          13.5,
          11,
          13,
          0,
          12,
          13.5,
          12.5,
          13,
          13,
          12.5,
          12.5,
          12.5,
          12.8,
          0,
          0,
          0,
          13,
          13,
          13.5,
          16,
          13,
          14.4,
          13,
          13.5,
          12.5,
          12.5,
          13,
          13.5,
          14,
          13.5,
          14,
          12.5,
          0,
          0,
          13,
          13.5,
          13,
          12.5,
          12.5,
          13,
          13.5,
          0,
          0,
          12.5,
          12.5,
          13,
          12.5,
          12.5,
          12,
          12,
          0,
          12.5,
          13,
          12.5,
          0,
          12.5,
          12,
          12.5,
          12.5,
          0,
          12.5,
          13,
          13,
          0,
          12.5,
          0,
          13,
          13,
          0,
          12.5,
          0,
          0,
          13,
          0,
          13,
          13.5,
          12.5,
          12.5,
          14,
          13.5,
          13.5,
          0,
          13,
          13,
          13,
          12.5,
          0,
          12.5,
          0,
          0,
          0,
          13,
          12.5,
          12.5,
          0,
          12.5,
          0,
          12.5,
          13.5,
          12.05,
          12.5,
          12.5,
          13,
          12,
          0,
          13,
          0,
          13,
          12.5,
          13.5,
          13,
          0,
          13,
          13,
          13,
          12,
          13,
          11,
          12.5,
          0,
          13.5,
          0,
          13.5,
          0,
          13,
          13.5,
          13.5,
          13.5,
          12.5,
          12.5,
          13.5,
          13.5,
          7.5,
          0,
          12.5,
          13,
          12,
          12.5,
          12.5,
          0,
          13,
          13,
          13.5,
          0,
          12.5,
          0,
          0,
          13,
          13,
          0,
          0,
          13.5,
          13,
          0,
          12.5,
          13,
          12.5,
          12,
          0,
          0,
          0,
          13,
          12,
          13,
          0,
          13,
          12.5,
          13,
          13,
          12.5,
          0,
          12,
          13,
          12.5,
          0,
          14,
          13,
          13,
          13.5,
          12.5,
          13,
          0,
          13,
          0,
          13,
          0,
          0,
          0,
          0,
          14,
          12,
          0,
          13,
          0,
          12,
          12.5,
          12.5,
          12,
          13,
          13,
          12.5,
          13,
          0,
          0,
          13.5,
          13,
          13,
          0,
          0,
          0,
          13,
          0,
          12.5,
          14,
          13,
          13,
          13,
          13,
          13,
          12.5,
          0,
          13,
          0,
          12,
          13.5,
          0,
          13,
          12.5,
          13,
          12.5,
          14,
          14,
          12,
          13,
          0,
          0,
          0,
          13,
          0,
          0,
          12.5,
          12.5,
          12.5,
          0,
          13,
          12.5,
          13.5,
          13,
          13,
          13,
          13.5,
          0,
          13,
          0,
          13,
          13,
          13,
          12.5,
          13,
          13.5,
          13,
          13,
          0,
          0,
          0,
          12,
          11.5,
          0,
          13,
          13,
          13.5,
          13,
          13.5,
          13,
          14.5,
          0,
          0,
          0,
          0,
          13,
          0,
          13,
          13,
          13,
          0,
          12,
          0,
          0,
          12,
          0,
          13,
          12,
          0,
          13,
          13,
          13,
          0,
          0,
          0,
          13,
          0,
          0,
          0,
          12.5,
          0,
          13,
          13,
          13.5,
          12,
          13,
          0,
          14.5,
          13.5,
          13,
          12.5,
          13,
          0,
          0,
          12.5,
          11.5,
          0,
          0,
          13,
          13,
          12.5,
          0,
          12.5,
          0,
          0,
          13,
          0,
          0,
          14.5,
          0,
          12,
          0,
          13.5,
          13,
          13,
          13,
          12.5,
          0,
          13,
          0,
          12.5,
          0,
          12,
          13,
          13,
          13,
          12,
          12,
          11.5,
          12.5,
          13.5,
          12.5,
          13,
          13,
          12.5,
          13,
          13,
          12.5,
          13,
          0,
          13,
          14.5,
          13,
          13,
          13,
          13,
          0,
          13,
          14.5,
          12.5,
          13,
          13,
          13,
          13,
          14,
          0,
          13,
          13,
          12.5,
          12.5,
          0,
          12.5,
          12.5,
          0,
          0,
          13,
          12,
          0,
          0,
          0,
          13.5,
          13,
          0,
          13,
          12,
          12.5,
          0,
          13,
          12,
          12,
          12,
          0,
          12.5,
          0,
          12.5,
          13,
          0,
          13.5,
          0,
          13,
          0,
          0,
          0,
          12.5,
          12.5,
          12,
          14.5,
          13,
          0,
          13,
          13,
          0,
          0,
          0,
          0,
          12.5,
          0,
          13,
          13,
          13,
          12.5,
          0,
          0,
          13,
          0,
          13,
          12.5,
          0,
          13,
          12.5,
          13,
          12.5,
          0,
          12.5,
          13,
          0,
          13,
          13,
          13,
          0,
          0,
          0,
          13,
          0,
          0,
          12.5,
          13,
          0,
          12,
          0,
          13,
          12.5,
          12,
          0,
          13,
          13,
          0,
          12.5,
          13,
          0,
          13,
          0,
          11.5,
          12.5,
          0,
          14,
          12.5,
          0,
          0,
          0,
          0,
          12.5,
          0,
          13,
          0,
          12.5,
          13,
          12.5,
          0,
          0,
          0,
          0,
          12,
          0,
          0,
          13,
          14.5,
          0,
          0,
          0,
          13.5,
          14.26,
          14.5,
          13,
          13,
          13,
          13,
          13,
          13.5,
          0,
          13,
          12.5,
          12.5,
          0,
          0,
          0,
          0,
          13,
          13,
          13.5,
          0,
          12.5,
          13,
          13,
          12.5,
          0,
          13,
          0,
          13,
          0,
          0,
          0,
          13,
          0,
          0,
          0,
          13,
          13.5,
          0,
          0,
          0,
          13,
          14.5,
          13,
          13,
          13,
          0,
          13,
          0,
          0,
          13,
          0,
          0,
          12,
          12.5,
          0,
          13,
          13,
          14,
          13,
          0,
          0,
          13,
          13,
          0,
          0,
          0,
          13,
          13.5,
          0,
          12,
          13,
          13,
          12,
          13,
          13,
          0,
          13.5,
          12,
          0,
          14,
          13,
          13,
          13,
          13,
          0,
          13,
          13,
          0,
          0,
          0,
          13,
          0,
          0,
          13,
          13,
          13,
          0,
          0,
          13,
          13,
          0,
          12,
          12.5,
          14,
          12.5,
          14.5,
          13,
          0,
          0,
          0,
          13,
          13,
          0,
          12.5,
          13,
          12.5,
          0,
          13,
          13,
          12,
          0,
          13.5,
          12.5,
          13,
          0,
          12.5,
          0,
          12,
          13,
          13,
          13,
          0,
          0,
          0,
          0,
          12.5,
          13,
          12.5,
          13,
          0,
          12.5,
          13,
          12,
          13,
          0,
          13,
          0,
          13.5,
          0,
          13.5,
          0,
          12.5,
          0,
          0,
          13,
          12.5,
          0,
          12.5,
          0,
          0,
          0,
          0,
          13,
          13,
          13,
          13,
          0,
          12.7,
          12.5,
          0,
          13,
          13,
          12.5,
          12.5,
          13,
          13,
          0,
          12,
          13,
          13,
          0,
          13,
          13,
          12.5,
          0,
          0,
          0,
          13.5,
          12.5,
          13,
          12,
          0,
          13,
          13,
          13,
          13,
          0,
          0,
          0,
          0,
          12,
          14.5,
          0,
          0,
          12.5,
          0,
          0,
          13,
          13,
          13.5,
          13,
          13,
          12.5,
          0,
          0,
          12.5,
          0,
          12,
          12,
          0,
          13,
          13,
          0,
          13,
          13,
          0,
          12,
          0,
          0,
          12.5,
          13.5,
          0,
          12.5,
          0,
          13,
          0,
          13,
          12.5,
          0,
          0,
          0,
          12.5,
          0,
          14,
          13,
          14,
          0,
          13.5,
          0,
          13,
          14,
          0,
          13.5,
          0,
          13,
          13,
          13,
          0,
          0,
          0,
          0,
          13,
          0,
          0,
          0,
          13,
          0,
          0,
          0,
          12,
          12.5,
          0,
          0,
          13,
          0,
          14,
          13,
          13.5,
          0,
          0,
          0,
          13,
          0,
          0,
          14.5,
          0,
          0,
          0,
          12.5,
          0,
          0,
          0,
          0,
          13,
          13,
          13,
          0,
          13,
          13,
          12.5,
          13,
          13,
          13.5,
          13,
          12.5,
          13.5,
          0,
          14,
          0,
          12.5,
          14,
          0,
          14,
          13,
          14.5,
          0,
          13,
          12.5,
          12.5,
          13,
          12.5,
          12,
          0,
          13.5,
          0,
          14,
          12.5,
          14.5,
          0,
          13,
          0,
          0,
          0,
          0,
          0,
          12,
          12,
          13,
          13,
          0,
          14,
          0,
          11.5,
          0,
          0,
          12,
          13,
          13,
          0,
          0,
          12.5,
          0,
          13.5,
          13,
          12,
          0,
          13,
          14,
          13,
          0,
          13,
          0,
          14.5,
          0,
          0,
          0,
          13,
          13,
          13,
          0,
          13,
          13,
          13.5,
          14,
          12.5,
          13.5,
          13,
          12.5,
          12.5,
          13,
          0,
          0,
          0,
          13,
          13,
          0,
          12,
          12.3,
          13,
          13,
          12.2,
          13,
          13,
          12.7,
          12.5,
          0,
          13.5,
          12.5,
          13.5,
          13.5,
          13,
          0,
          0,
          14,
          14,
          13,
          0,
          13.5,
          13.5,
          0,
          12.6,
          12.6,
          0,
          12.5,
          0,
          0,
          0,
          0,
          0,
          12,
          0,
          13.5,
          13,
          13.5,
          13,
          12.5,
          13,
          13,
          11.5,
          0,
          13,
          13,
          0,
          0,
          12.5,
          13,
          12.5,
          13.5,
          13,
          0,
          12.5,
          11.5,
          13.5,
          0,
          0,
          14,
          0,
          13,
          13,
          12.5,
          13,
          0,
          13.5,
          0,
          13.5,
          14,
          13.3,
          14,
          0,
          13,
          12.5,
          13,
          13,
          13,
          12.5,
          12.5,
          13.5,
          13.5,
          14,
          13.5,
          12.5,
          13.5,
          0,
          0,
          0,
          12,
          13,
          13,
          13,
          12.5,
          13
         ],
         "xaxis": "x",
         "yaxis": "y"
        }
       ],
       "layout": {
        "barmode": "relative",
        "legend": {
         "tracegroupgap": 0
        },
        "margin": {
         "t": 60
        },
        "template": {
         "data": {
          "bar": [
           {
            "error_x": {
             "color": "#2a3f5f"
            },
            "error_y": {
             "color": "#2a3f5f"
            },
            "marker": {
             "line": {
              "color": "#E5ECF6",
              "width": 0.5
             },
             "pattern": {
              "fillmode": "overlay",
              "size": 10,
              "solidity": 0.2
             }
            },
            "type": "bar"
           }
          ],
          "barpolar": [
           {
            "marker": {
             "line": {
              "color": "#E5ECF6",
              "width": 0.5
             },
             "pattern": {
              "fillmode": "overlay",
              "size": 10,
              "solidity": 0.2
             }
            },
            "type": "barpolar"
           }
          ],
          "carpet": [
           {
            "aaxis": {
             "endlinecolor": "#2a3f5f",
             "gridcolor": "white",
             "linecolor": "white",
             "minorgridcolor": "white",
             "startlinecolor": "#2a3f5f"
            },
            "baxis": {
             "endlinecolor": "#2a3f5f",
             "gridcolor": "white",
             "linecolor": "white",
             "minorgridcolor": "white",
             "startlinecolor": "#2a3f5f"
            },
            "type": "carpet"
           }
          ],
          "choropleth": [
           {
            "colorbar": {
             "outlinewidth": 0,
             "ticks": ""
            },
            "type": "choropleth"
           }
          ],
          "contour": [
           {
            "colorbar": {
             "outlinewidth": 0,
             "ticks": ""
            },
            "colorscale": [
             [
              0,
              "#0d0887"
             ],
             [
              0.1111111111111111,
              "#46039f"
             ],
             [
              0.2222222222222222,
              "#7201a8"
             ],
             [
              0.3333333333333333,
              "#9c179e"
             ],
             [
              0.4444444444444444,
              "#bd3786"
             ],
             [
              0.5555555555555556,
              "#d8576b"
             ],
             [
              0.6666666666666666,
              "#ed7953"
             ],
             [
              0.7777777777777778,
              "#fb9f3a"
             ],
             [
              0.8888888888888888,
              "#fdca26"
             ],
             [
              1,
              "#f0f921"
             ]
            ],
            "type": "contour"
           }
          ],
          "contourcarpet": [
           {
            "colorbar": {
             "outlinewidth": 0,
             "ticks": ""
            },
            "type": "contourcarpet"
           }
          ],
          "heatmap": [
           {
            "colorbar": {
             "outlinewidth": 0,
             "ticks": ""
            },
            "colorscale": [
             [
              0,
              "#0d0887"
             ],
             [
              0.1111111111111111,
              "#46039f"
             ],
             [
              0.2222222222222222,
              "#7201a8"
             ],
             [
              0.3333333333333333,
              "#9c179e"
             ],
             [
              0.4444444444444444,
              "#bd3786"
             ],
             [
              0.5555555555555556,
              "#d8576b"
             ],
             [
              0.6666666666666666,
              "#ed7953"
             ],
             [
              0.7777777777777778,
              "#fb9f3a"
             ],
             [
              0.8888888888888888,
              "#fdca26"
             ],
             [
              1,
              "#f0f921"
             ]
            ],
            "type": "heatmap"
           }
          ],
          "heatmapgl": [
           {
            "colorbar": {
             "outlinewidth": 0,
             "ticks": ""
            },
            "colorscale": [
             [
              0,
              "#0d0887"
             ],
             [
              0.1111111111111111,
              "#46039f"
             ],
             [
              0.2222222222222222,
              "#7201a8"
             ],
             [
              0.3333333333333333,
              "#9c179e"
             ],
             [
              0.4444444444444444,
              "#bd3786"
             ],
             [
              0.5555555555555556,
              "#d8576b"
             ],
             [
              0.6666666666666666,
              "#ed7953"
             ],
             [
              0.7777777777777778,
              "#fb9f3a"
             ],
             [
              0.8888888888888888,
              "#fdca26"
             ],
             [
              1,
              "#f0f921"
             ]
            ],
            "type": "heatmapgl"
           }
          ],
          "histogram": [
           {
            "marker": {
             "pattern": {
              "fillmode": "overlay",
              "size": 10,
              "solidity": 0.2
             }
            },
            "type": "histogram"
           }
          ],
          "histogram2d": [
           {
            "colorbar": {
             "outlinewidth": 0,
             "ticks": ""
            },
            "colorscale": [
             [
              0,
              "#0d0887"
             ],
             [
              0.1111111111111111,
              "#46039f"
             ],
             [
              0.2222222222222222,
              "#7201a8"
             ],
             [
              0.3333333333333333,
              "#9c179e"
             ],
             [
              0.4444444444444444,
              "#bd3786"
             ],
             [
              0.5555555555555556,
              "#d8576b"
             ],
             [
              0.6666666666666666,
              "#ed7953"
             ],
             [
              0.7777777777777778,
              "#fb9f3a"
             ],
             [
              0.8888888888888888,
              "#fdca26"
             ],
             [
              1,
              "#f0f921"
             ]
            ],
            "type": "histogram2d"
           }
          ],
          "histogram2dcontour": [
           {
            "colorbar": {
             "outlinewidth": 0,
             "ticks": ""
            },
            "colorscale": [
             [
              0,
              "#0d0887"
             ],
             [
              0.1111111111111111,
              "#46039f"
             ],
             [
              0.2222222222222222,
              "#7201a8"
             ],
             [
              0.3333333333333333,
              "#9c179e"
             ],
             [
              0.4444444444444444,
              "#bd3786"
             ],
             [
              0.5555555555555556,
              "#d8576b"
             ],
             [
              0.6666666666666666,
              "#ed7953"
             ],
             [
              0.7777777777777778,
              "#fb9f3a"
             ],
             [
              0.8888888888888888,
              "#fdca26"
             ],
             [
              1,
              "#f0f921"
             ]
            ],
            "type": "histogram2dcontour"
           }
          ],
          "mesh3d": [
           {
            "colorbar": {
             "outlinewidth": 0,
             "ticks": ""
            },
            "type": "mesh3d"
           }
          ],
          "parcoords": [
           {
            "line": {
             "colorbar": {
              "outlinewidth": 0,
              "ticks": ""
             }
            },
            "type": "parcoords"
           }
          ],
          "pie": [
           {
            "automargin": true,
            "type": "pie"
           }
          ],
          "scatter": [
           {
            "fillpattern": {
             "fillmode": "overlay",
             "size": 10,
             "solidity": 0.2
            },
            "type": "scatter"
           }
          ],
          "scatter3d": [
           {
            "line": {
             "colorbar": {
              "outlinewidth": 0,
              "ticks": ""
             }
            },
            "marker": {
             "colorbar": {
              "outlinewidth": 0,
              "ticks": ""
             }
            },
            "type": "scatter3d"
           }
          ],
          "scattercarpet": [
           {
            "marker": {
             "colorbar": {
              "outlinewidth": 0,
              "ticks": ""
             }
            },
            "type": "scattercarpet"
           }
          ],
          "scattergeo": [
           {
            "marker": {
             "colorbar": {
              "outlinewidth": 0,
              "ticks": ""
             }
            },
            "type": "scattergeo"
           }
          ],
          "scattergl": [
           {
            "marker": {
             "colorbar": {
              "outlinewidth": 0,
              "ticks": ""
             }
            },
            "type": "scattergl"
           }
          ],
          "scattermapbox": [
           {
            "marker": {
             "colorbar": {
              "outlinewidth": 0,
              "ticks": ""
             }
            },
            "type": "scattermapbox"
           }
          ],
          "scatterpolar": [
           {
            "marker": {
             "colorbar": {
              "outlinewidth": 0,
              "ticks": ""
             }
            },
            "type": "scatterpolar"
           }
          ],
          "scatterpolargl": [
           {
            "marker": {
             "colorbar": {
              "outlinewidth": 0,
              "ticks": ""
             }
            },
            "type": "scatterpolargl"
           }
          ],
          "scatterternary": [
           {
            "marker": {
             "colorbar": {
              "outlinewidth": 0,
              "ticks": ""
             }
            },
            "type": "scatterternary"
           }
          ],
          "surface": [
           {
            "colorbar": {
             "outlinewidth": 0,
             "ticks": ""
            },
            "colorscale": [
             [
              0,
              "#0d0887"
             ],
             [
              0.1111111111111111,
              "#46039f"
             ],
             [
              0.2222222222222222,
              "#7201a8"
             ],
             [
              0.3333333333333333,
              "#9c179e"
             ],
             [
              0.4444444444444444,
              "#bd3786"
             ],
             [
              0.5555555555555556,
              "#d8576b"
             ],
             [
              0.6666666666666666,
              "#ed7953"
             ],
             [
              0.7777777777777778,
              "#fb9f3a"
             ],
             [
              0.8888888888888888,
              "#fdca26"
             ],
             [
              1,
              "#f0f921"
             ]
            ],
            "type": "surface"
           }
          ],
          "table": [
           {
            "cells": {
             "fill": {
              "color": "#EBF0F8"
             },
             "line": {
              "color": "white"
             }
            },
            "header": {
             "fill": {
              "color": "#C8D4E3"
             },
             "line": {
              "color": "white"
             }
            },
            "type": "table"
           }
          ]
         },
         "layout": {
          "annotationdefaults": {
           "arrowcolor": "#2a3f5f",
           "arrowhead": 0,
           "arrowwidth": 1
          },
          "autotypenumbers": "strict",
          "coloraxis": {
           "colorbar": {
            "outlinewidth": 0,
            "ticks": ""
           }
          },
          "colorscale": {
           "diverging": [
            [
             0,
             "#8e0152"
            ],
            [
             0.1,
             "#c51b7d"
            ],
            [
             0.2,
             "#de77ae"
            ],
            [
             0.3,
             "#f1b6da"
            ],
            [
             0.4,
             "#fde0ef"
            ],
            [
             0.5,
             "#f7f7f7"
            ],
            [
             0.6,
             "#e6f5d0"
            ],
            [
             0.7,
             "#b8e186"
            ],
            [
             0.8,
             "#7fbc41"
            ],
            [
             0.9,
             "#4d9221"
            ],
            [
             1,
             "#276419"
            ]
           ],
           "sequential": [
            [
             0,
             "#0d0887"
            ],
            [
             0.1111111111111111,
             "#46039f"
            ],
            [
             0.2222222222222222,
             "#7201a8"
            ],
            [
             0.3333333333333333,
             "#9c179e"
            ],
            [
             0.4444444444444444,
             "#bd3786"
            ],
            [
             0.5555555555555556,
             "#d8576b"
            ],
            [
             0.6666666666666666,
             "#ed7953"
            ],
            [
             0.7777777777777778,
             "#fb9f3a"
            ],
            [
             0.8888888888888888,
             "#fdca26"
            ],
            [
             1,
             "#f0f921"
            ]
           ],
           "sequentialminus": [
            [
             0,
             "#0d0887"
            ],
            [
             0.1111111111111111,
             "#46039f"
            ],
            [
             0.2222222222222222,
             "#7201a8"
            ],
            [
             0.3333333333333333,
             "#9c179e"
            ],
            [
             0.4444444444444444,
             "#bd3786"
            ],
            [
             0.5555555555555556,
             "#d8576b"
            ],
            [
             0.6666666666666666,
             "#ed7953"
            ],
            [
             0.7777777777777778,
             "#fb9f3a"
            ],
            [
             0.8888888888888888,
             "#fdca26"
            ],
            [
             1,
             "#f0f921"
            ]
           ]
          },
          "colorway": [
           "#636efa",
           "#EF553B",
           "#00cc96",
           "#ab63fa",
           "#FFA15A",
           "#19d3f3",
           "#FF6692",
           "#B6E880",
           "#FF97FF",
           "#FECB52"
          ],
          "font": {
           "color": "#2a3f5f"
          },
          "geo": {
           "bgcolor": "white",
           "lakecolor": "white",
           "landcolor": "#E5ECF6",
           "showlakes": true,
           "showland": true,
           "subunitcolor": "white"
          },
          "hoverlabel": {
           "align": "left"
          },
          "hovermode": "closest",
          "mapbox": {
           "style": "light"
          },
          "paper_bgcolor": "white",
          "plot_bgcolor": "#E5ECF6",
          "polar": {
           "angularaxis": {
            "gridcolor": "white",
            "linecolor": "white",
            "ticks": ""
           },
           "bgcolor": "#E5ECF6",
           "radialaxis": {
            "gridcolor": "white",
            "linecolor": "white",
            "ticks": ""
           }
          },
          "scene": {
           "xaxis": {
            "backgroundcolor": "#E5ECF6",
            "gridcolor": "white",
            "gridwidth": 2,
            "linecolor": "white",
            "showbackground": true,
            "ticks": "",
            "zerolinecolor": "white"
           },
           "yaxis": {
            "backgroundcolor": "#E5ECF6",
            "gridcolor": "white",
            "gridwidth": 2,
            "linecolor": "white",
            "showbackground": true,
            "ticks": "",
            "zerolinecolor": "white"
           },
           "zaxis": {
            "backgroundcolor": "#E5ECF6",
            "gridcolor": "white",
            "gridwidth": 2,
            "linecolor": "white",
            "showbackground": true,
            "ticks": "",
            "zerolinecolor": "white"
           }
          },
          "shapedefaults": {
           "line": {
            "color": "#2a3f5f"
           }
          },
          "ternary": {
           "aaxis": {
            "gridcolor": "white",
            "linecolor": "white",
            "ticks": ""
           },
           "baxis": {
            "gridcolor": "white",
            "linecolor": "white",
            "ticks": ""
           },
           "bgcolor": "#E5ECF6",
           "caxis": {
            "gridcolor": "white",
            "linecolor": "white",
            "ticks": ""
           }
          },
          "title": {
           "x": 0.05
          },
          "xaxis": {
           "automargin": true,
           "gridcolor": "white",
           "linecolor": "white",
           "ticks": "",
           "title": {
            "standoff": 15
           },
           "zerolinecolor": "white",
           "zerolinewidth": 2
          },
          "yaxis": {
           "automargin": true,
           "gridcolor": "white",
           "linecolor": "white",
           "ticks": "",
           "title": {
            "standoff": 15
           },
           "zerolinecolor": "white",
           "zerolinewidth": 2
          }
         }
        },
        "xaxis": {
         "anchor": "y",
         "domain": [
          0,
          1
         ],
         "title": {
          "text": "alcohol"
         }
        },
        "yaxis": {
         "anchor": "x",
         "domain": [
          0,
          1
         ],
         "title": {
          "text": "count"
         }
        }
       }
      }
     },
     "metadata": {},
     "output_type": "display_data"
    }
   ],
   "source": [
    "import plotly.express as px\n",
    "\n",
    "\n",
    "fig = px.histogram(df, \"alcohol\")\n",
    "fig.show()"
   ]
  },
  {
   "cell_type": "code",
   "execution_count": null,
   "metadata": {},
   "outputs": [],
   "source": []
  }
 ],
 "metadata": {
  "kernelspec": {
   "display_name": ".venv",
   "language": "python",
   "name": "python3"
  },
  "language_info": {
   "codemirror_mode": {
    "name": "ipython",
    "version": 3
   },
   "file_extension": ".py",
   "mimetype": "text/x-python",
   "name": "python",
   "nbconvert_exporter": "python",
   "pygments_lexer": "ipython3",
   "version": "3.11.1"
  }
 },
 "nbformat": 4,
 "nbformat_minor": 2
}
